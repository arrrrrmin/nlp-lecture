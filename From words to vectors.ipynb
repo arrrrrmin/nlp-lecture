{
 "cells": [
  {
   "cell_type": "markdown",
   "id": "9c3e5e77-985d-4854-aea8-35e633776f20",
   "metadata": {},
   "source": [
    "# From words to vectors"
   ]
  },
  {
   "cell_type": "code",
   "execution_count": null,
   "id": "58322323-1685-41a7-a295-e8834ca76886",
   "metadata": {},
   "outputs": [],
   "source": [
    "import numpy as np\n",
    "import matplotlib.pyplot as plt\n",
    "from sklearn.feature_extraction.text import TfidfVectorizer\n",
    "from sklearn.metrics.pairwise import cosine_distances"
   ]
  },
  {
   "cell_type": "code",
   "execution_count": null,
   "id": "c6c73efa-1ba2-42d1-a490-9237e77461bf",
   "metadata": {},
   "outputs": [],
   "source": [
    "documents = [\n",
    "    \"Human machine interface for lab abc computer applications\",\n",
    "    \"A survey of user opinion of computer system response time\",\n",
    "    \"The EPS user interface management system\",\n",
    "    \"System and human system engineering testing of EPS\",\n",
    "    \"Relation of user perceived response time to error measurement\",\n",
    "    \"The generation of random binary unordered trees\",\n",
    "    \"The intersection graph of paths in trees\",\n",
    "    \"Graph minors IV Widths of trees and well quasi ordering\",\n",
    "    \"Graph minors A survey\",\n",
    "]\n",
    "stoplist = set('for a of the and to in'.split())"
   ]
  },
  {
   "cell_type": "code",
   "execution_count": null,
   "id": "739d872f-4f52-43df-a3f1-08417ea5d4de",
   "metadata": {},
   "outputs": [],
   "source": [
    "texts = [\n",
    "    \" \".join([word for word in document.lower().split() if word not in stoplist])\n",
    "    for document in documents\n",
    "]\n",
    "texts"
   ]
  },
  {
   "cell_type": "code",
   "execution_count": null,
   "id": "faa851ba-56dc-43c2-8f54-7402222b58ec",
   "metadata": {},
   "outputs": [],
   "source": [
    "tfidf = TfidfVectorizer()\n",
    "bow_tfidfs = tfidf.fit_transform(texts)\n",
    "tfidf.get_feature_names_out()  # Vocabulary tokens"
   ]
  },
  {
   "cell_type": "code",
   "execution_count": null,
   "id": "9254a6ee-4b8b-4f2e-9716-ad93e3866d56",
   "metadata": {},
   "outputs": [],
   "source": [
    "tfidf.get_feature_names_out().shape  # Vocabulary length"
   ]
  },
  {
   "cell_type": "code",
   "execution_count": null,
   "id": "4ccf96b2-3df9-40c3-9fe0-8fe56e3f8f03",
   "metadata": {},
   "outputs": [],
   "source": [
    "bow_tfidfs.shape  # Matrix shape"
   ]
  },
  {
   "cell_type": "code",
   "execution_count": null,
   "id": "409c6ad6-bd4f-4522-af51-7f82e0798717",
   "metadata": {},
   "outputs": [],
   "source": [
    "print(bow_tfidfs[0])"
   ]
  },
  {
   "cell_type": "code",
   "execution_count": null,
   "id": "7ecb0a58-d064-4ee9-aeb6-4a31c3f69d0b",
   "metadata": {},
   "outputs": [],
   "source": [
    "print(bow_tfidfs[1])"
   ]
  },
  {
   "cell_type": "code",
   "execution_count": null,
   "id": "9140465f-04d4-4e2c-a134-dfe05dfe6926",
   "metadata": {},
   "outputs": [],
   "source": [
    "bow_tfidfs.toarray()[0]"
   ]
  },
  {
   "cell_type": "code",
   "execution_count": null,
   "id": "fc57ccf0-bd97-4f1a-bda8-9936ccda7206",
   "metadata": {},
   "outputs": [],
   "source": [
    "def cosine_sims(bows: np.ndarray) -> np.ndarray:\n",
    "    similarities = []\n",
    "    for bow_a in bows:\n",
    "        similarities.append([1 - cosine_distances(bow_a, bow_b) for bow_b in bows])\n",
    "    return np.array(similarities).squeeze()"
   ]
  },
  {
   "cell_type": "code",
   "execution_count": null,
   "id": "d59e0f59-2ea2-41c4-8049-b9d2f1284a91",
   "metadata": {},
   "outputs": [],
   "source": [
    "similarities = cosine_sims(bow_tfidfs)\n",
    "similarities.shape"
   ]
  },
  {
   "cell_type": "code",
   "execution_count": null,
   "id": "57fc83c4-bd4c-4eee-b447-081535a31673",
   "metadata": {},
   "outputs": [],
   "source": [
    "similarities"
   ]
  },
  {
   "cell_type": "code",
   "execution_count": null,
   "id": "99f301c7-5ac6-4634-8c17-523665b7da57",
   "metadata": {},
   "outputs": [],
   "source": [
    "plt.imshow(similarities)\n",
    "plt.colorbar()"
   ]
  }
 ],
 "metadata": {
  "kernelspec": {
   "display_name": "Python 3 (ipykernel)",
   "language": "python",
   "name": "python3"
  },
  "language_info": {
   "codemirror_mode": {
    "name": "ipython",
    "version": 3
   },
   "file_extension": ".py",
   "mimetype": "text/x-python",
   "name": "python",
   "nbconvert_exporter": "python",
   "pygments_lexer": "ipython3",
   "version": "3.11.9"
  }
 },
 "nbformat": 4,
 "nbformat_minor": 5
}
